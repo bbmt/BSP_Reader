{
  "cells": [
    {
      "cell_type": "markdown",
      "metadata": {
        "colab_type": "text",
        "id": "view-in-github"
      },
      "source": [
        "<a href=\"https://colab.research.google.com/github/bbmt/BSP_Reader/blob/main/FPA_ReaderBSP.ipynb\" target=\"_parent\"><img src=\"https://colab.research.google.com/assets/colab-badge.svg\" alt=\"Open In Colab\"/></a>"
      ]
    },
    {
      "cell_type": "markdown",
      "metadata": {},
      "source": [
        "#Script for extracting images from multiple FPA BSP Agilent files\n",
        "Imbuia Beamline@LNLS\n",
        "\n",
        "**This script works for FPA bsp files. This is not for multispectra, pontual files.**\n",
        "\n",
        "**This script was not tested for MOSAIC files.**\n",
        "\n",
        "**Please name your file without whitespaces.**\n",
        "\n",
        "**! ! ! IMPORTANT: Before running the script, please set the paths.\n",
        "Usually, /content/drive/Mydrive/CHOOSEFOLDER/ ! ! !**\n",
        "\n",
        "For processing the file, hit **Crtl-F9** (or Command-F9 if you are using Mac). The script will extract all relevant data from the BSP file. The only required user action is in the *Upload file* cell.\n",
        "\n",
        "*If any error occurs, please send a printscreen and the bsp file to bruno.torres@lnls.br or brunobassi@ifsc.usp.br.*"
      ]
    },
    {
      "cell_type": "code",
      "execution_count": 1,
      "metadata": {
        "cellView": "form",
        "colab": {
          "base_uri": "https://localhost:8080/"
        },
        "id": "8-Kt_5BKhlIk",
        "outputId": "896521f6-89a0-4e75-e82f-4375adf9fcb2"
      },
      "outputs": [],
      "source": [
        "import os\n",
        "import olefile\n",
        "import re\n",
        "import glob"
      ]
    },
    {
      "cell_type": "code",
      "execution_count": 9,
      "metadata": {
        "cellView": "form",
        "colab": {
          "base_uri": "https://localhost:8080/",
          "height": 76
        },
        "id": "5SWs_NdOh7J0",
        "outputId": "a8bd9183-54be-4f28-cec4-9f82c064ad16"
      },
      "outputs": [
        {
          "name": "stdout",
          "output_type": "stream",
          "text": [
            "['/home/bruno/PreguicaGigante/data/iii/2iii_4_27b_borda_1.bsp', '/home/bruno/PreguicaGigante/data/iii/2iii_4_27b_borda_2.bsp', '/home/bruno/PreguicaGigante/data/iii/2iii_4_27b_meio_1.bsp', '/home/bruno/PreguicaGigante/data/iii/2iii_4_27b_meio_2.bsp', '/home/bruno/PreguicaGigante/data/iii/4_iii_25c_borda_1.bsp', '/home/bruno/PreguicaGigante/data/iii/4_iii_25c_borda_2.bsp', '/home/bruno/PreguicaGigante/data/iii/4_iii_25c_meio_1.bsp', '/home/bruno/PreguicaGigante/data/iii/5a_iii4_24b_borda_1.bsp', '/home/bruno/PreguicaGigante/data/iii/5a_iii4_24b_borda_2.bsp', '/home/bruno/PreguicaGigante/data/iii/5a_iii4_24b_meio_1.bsp', '/home/bruno/PreguicaGigante/data/iii/iii4_26c_7c.bsp', '/home/bruno/PreguicaGigante/data/iii/iii4_26c_7c_borda_2.bsp', '/home/bruno/PreguicaGigante/data/iii/iii4_26c_7c_meio.bsp', '/home/bruno/PreguicaGigante/data/iii/iii4_26c_7c_meio_2.bsp', '/home/bruno/PreguicaGigante/data/iii/iii_23a_304_311_fr11_q1_1_borda.bsp', '/home/bruno/PreguicaGigante/data/iii/iii_23a_304_311_fr11_q1_1_meio.bsp', '/home/bruno/PreguicaGigante/data/iii/iii_23a_304_311_fr11_q1_2_borda.bsp', '/home/bruno/PreguicaGigante/data/iii/iii_23a_304_311_fr11_q1_2_meio.bsp', '/home/bruno/PreguicaGigante/data/iii/iii_23a_304_311_fr11_q1_3_borda.bsp', '/home/bruno/PreguicaGigante/data/iii/iii_23a_304_311_fr11_q1_canal.bsp', '/home/bruno/PreguicaGigante/data/iii/iii_23a_304_311_fr11_q1_canal_b.bsp', '/home/bruno/PreguicaGigante/data/iii/iii_23a_304_311_fr11_q1_canal_meio.bsp', '/home/bruno/PreguicaGigante/data/iii/iii_23z_z346_si.bsp', '/home/bruno/PreguicaGigante/data/iii/iii_24a_8a_osteod_borda1.bsp', '/home/bruno/PreguicaGigante/data/iii/iii_24a_8a_osteod_meio.bsp', '/home/bruno/PreguicaGigante/data/iii/iii_25a_3a_osteod_borda1.bsp', '/home/bruno/PreguicaGigante/data/iii/iii_25a_3a_osteod_borda2.bsp', '/home/bruno/PreguicaGigante/data/iii/iii_25a_3a_osteod_meio.bsp', '/home/bruno/PreguicaGigante/data/iii/iii_25c_a_13a_osteod_borda1.bsp', '/home/bruno/PreguicaGigante/data/iii/iii_25c_a_13a_osteod_borda2.bsp', '/home/bruno/PreguicaGigante/data/iii/iii_25c_a_13a_osteod_canal.bsp', '/home/bruno/PreguicaGigante/data/iii/iii_25c_a_13a_osteod_meio.bsp', '/home/bruno/PreguicaGigante/data/iii/iii_25c_z307_dentinho_crosta.bsp', '/home/bruno/PreguicaGigante/data/iii/iii_25c_z307_dentinho_crosta_2.bsp', '/home/bruno/PreguicaGigante/data/iii/iii_28a_1_osteod_borda1.bsp', '/home/bruno/PreguicaGigante/data/iii/iii_28a_1_osteod_borda2.bsp', '/home/bruno/PreguicaGigante/data/iii/iii_28a_1_osteod_meio.bsp', '/home/bruno/PreguicaGigante/data/iii/iii_28b_glenoide.bsp']\n"
          ]
        }
      ],
      "source": [
        "#@title Folder PATH - **ACTION REQUIRED**\n",
        "#@markdown Set the path to folder with multiple bps files\n",
        "\n",
        "path = '/home/bruno/PreguicaGigante/data/iii/' # remmember to add '/' at the end\n",
        "\n",
        "file_pattern = \"*.bsp\" #you may change the pattern\n",
        "files_path = sorted(glob.glob(path + file_pattern))\n",
        "print(files_path) #sanity check"
      ]
    },
    {
      "cell_type": "code",
      "execution_count": 11,
      "metadata": {
        "cellView": "form",
        "id": "gyWgLP5MkWkc"
      },
      "outputs": [],
      "source": [
        "#@title Folder Structure\n",
        "\n",
        "path_to_save = '/home/bruno/PreguicaGigante/data/iii' #You may change the save path\n",
        "os.makedirs(path_to_save+'/Images',exist_ok=True)\n",
        "os.makedirs(path_to_save+'/TempBin',exist_ok=True)"
      ]
    },
    {
      "cell_type": "code",
      "execution_count": 12,
      "metadata": {
        "id": "usly4yCJ29Xx"
      },
      "outputs": [
        {
          "name": "stdout",
          "output_type": "stream",
          "text": [
            "Processing bsp files...\n",
            "Image found:00025823-674FA25E Saving...\n",
            "\n",
            "Image found:00025825-674FA42B Saving...\n",
            "\n",
            "Image found:00025826-674FA5E0 Saving...\n",
            "\n",
            "Image found:00025827-674FA7B4 Saving...\n",
            "\n",
            "Image found:00003799-674FBB39 Saving...\n",
            "\n",
            "Image found:0000379A-674FBD6E Saving...\n",
            "\n",
            "Image found:0000379B-674FBFE2 Saving...\n",
            "\n",
            "Image found:000037A4-674FCC25 Saving...\n",
            "\n",
            "Image found:000037A5-674FCE56 Saving...\n",
            "\n",
            "Image found:000037A6-674FD04A Saving...\n",
            "\n",
            "Image found:00020DEC-674E176D Saving...\n",
            "\n",
            "Image found:00020DEF-674E1C3F Saving...\n",
            "\n",
            "Image found:00020DEE-674E1A0A Saving...\n",
            "\n",
            "Image found:00020DF0-674E1EDA Saving...\n",
            "\n",
            "Image found:0003317D-674E7A34 Saving...\n",
            "\n",
            "Image found:00020E0F-674E70CF Saving...\n",
            "\n",
            "Image found:0003317F-674E7CFA Saving...\n",
            "\n",
            "Image found:0003317B-674E774F Saving...\n",
            "\n",
            "Image found:0004BE02-674F8A0D Saving...\n",
            "\n",
            "Image found:00049EA8-674F821F Saving...\n",
            "\n",
            "Image found:00049EA9-674F8468 Saving...\n",
            "\n",
            "Image found:00049EAB-674F86AF Saving...\n",
            "\n",
            "Image found:00028C36-674F0D1A Saving...\n",
            "\n",
            "Image found:00049E9D-674F6CC2 Saving...\n",
            "\n",
            "Image found:00049E9C-674F6AC3 Saving...\n",
            "\n",
            "Image found:00049E98-674F61C1 Saving...\n",
            "\n",
            "Image found:00049E99-674F63DD Saving...\n",
            "\n",
            "Image found:00047C58-674F4132 Saving...\n",
            "\n",
            "Image found:00049EA0-674F7470 Saving...\n",
            "\n",
            "Image found:00049EA2-674F77B8 Saving...\n",
            "\n",
            "Image found:00049E9F-674F7198 Saving...\n",
            "\n",
            "Image found:00049E9E-674F700F Saving...\n",
            "\n",
            "Image found:0005ACB7-674E8346 Saving...\n",
            "\n",
            "Image found:0005ACB9-674E86A1 Saving...\n",
            "\n",
            "Image found:00049EA4-674F7C12 Saving...\n",
            "\n",
            "Image found:00049EA5-674F7DD7 Saving...\n",
            "\n",
            "Image found:00049EA3-674F7A20 Saving...\n",
            "\n",
            "Image found:00047C56-674F3A6A Saving...\n",
            "\n"
          ]
        }
      ],
      "source": [
        "print('Processing bsp files...')\n",
        "\n",
        "def retrieve_image(filename):\n",
        "\n",
        "    if olefile.isOleFile(filename):\n",
        "        with olefile.OleFileIO(filename) as ole:\n",
        "            streams = ole.listdir(storages=False, streams=True)\n",
        "\n",
        "            streams_list = ole.openstream(['Spectra','IndexTable']).read()\n",
        "\n",
        "            streams_list = re.findall(b'(\\\\w{8}-\\\\w{8})',streams_list)\n",
        "\n",
        "    #  with olefile.OleFileIO(filename) as ole:\n",
        "            stream_data = []\n",
        "            for stream_ in streams_list:\n",
        "                stream_data.append(ole.openstream(['Spectra',stream_.decode()]).read())\n",
        "\n",
        "    for name,data in zip(streams_list,stream_data):\n",
        "        with open(path_to_save+'/TempBin/'+name.decode()+'.bin','wb+') as f:\n",
        "            f.write(data)\n",
        "\n",
        "    for stream_name in streams_list:\n",
        "\n",
        "        jpg_byte_start = b'\\xff\\xd8\\xff\\xe0'\n",
        "        jpg_byte_end = b'\\xff\\xd9'\n",
        "        jpg_image = bytearray()\n",
        "\n",
        "        with open(path_to_save+'/TempBin/'+stream_name.decode()+'.bin', 'rb') as f:\n",
        "            full_extracted_data = f.read()\n",
        "\n",
        "            startimg = full_extracted_data.find(jpg_byte_start)\n",
        "\n",
        "            if startimg == -1:\n",
        "                print('!Warning!Could not find a valid JPEG image in the data stream:'+stream_name.decode())\n",
        "                print('Filename:'+filename.split('/')[-1].split(',')[0])\n",
        "                print('It is ok if you did not take a visible image for this experiment.\\n')\n",
        "\n",
        "            else:\n",
        "                print('Image found:'+stream_name.decode()+' Saving...\\n')\n",
        "                endimg = full_extracted_data.find(jpg_byte_end, startimg) + len(jpg_byte_end)\n",
        "                jpg_image += full_extracted_data[startimg:endimg]\n",
        "\n",
        "                with open(path_to_save+'/Images/'+filename.split('/')[-1].split(',')[0]+'.jpg', 'wb+') as f:\n",
        "                    f.write(jpg_image)\n",
        "\n",
        "for file in files_path:\n",
        "    retrieve_image(file)"
      ]
    },
    {
      "cell_type": "code",
      "execution_count": 13,
      "metadata": {
        "cellView": "form",
        "colab": {
          "base_uri": "https://localhost:8080/",
          "height": 249
        },
        "id": "-RjcchTFA7kD",
        "outputId": "e33c82c9-929c-4ab0-e275-401849a6e768"
      },
      "outputs": [],
      "source": [
        "#@title Cleaning up and saving files to zip...\n",
        "\n",
        "for temp_bin in os.listdir(path_to_save+'/TempBin/'):\n",
        "    os.unlink(path_to_save+'/TempBin/'+temp_bin)\n",
        "os.rmdir(path_to_save+'/TempBin')"
      ]
    },
    {
      "cell_type": "code",
      "execution_count": null,
      "metadata": {},
      "outputs": [],
      "source": []
    }
  ],
  "metadata": {
    "colab": {
      "include_colab_link": true,
      "provenance": []
    },
    "kernelspec": {
      "display_name": "preguica",
      "language": "python",
      "name": "python3"
    },
    "language_info": {
      "codemirror_mode": {
        "name": "ipython",
        "version": 3
      },
      "file_extension": ".py",
      "mimetype": "text/x-python",
      "name": "python",
      "nbconvert_exporter": "python",
      "pygments_lexer": "ipython3",
      "version": "3.13.2"
    }
  },
  "nbformat": 4,
  "nbformat_minor": 0
}
