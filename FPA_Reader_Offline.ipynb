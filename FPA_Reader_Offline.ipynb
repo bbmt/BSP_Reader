{
 "cells": [
  {
   "cell_type": "code",
   "execution_count": 1,
   "metadata": {},
   "outputs": [],
   "source": [
    "import os\n",
    "import re\n",
    "import olefile"
   ]
  },
  {
   "cell_type": "code",
   "execution_count": 7,
   "metadata": {},
   "outputs": [],
   "source": [
    "#@title Folder Structure\n",
    "filename = \"/home/bruno/PreguicaGigante/data/mineral/aragonita_rugosa.bsp\"\n",
    "path_to_save = '/home/bruno/PreguicaGigante/data/mineral/'\n",
    "os.makedirs(path_to_save+'/Images',exist_ok=True)\n",
    "os.makedirs(path_to_save+'/TempBin',exist_ok=True)"
   ]
  },
  {
   "cell_type": "code",
   "execution_count": 8,
   "metadata": {},
   "outputs": [],
   "source": [
    "#@title Processing data streams\n",
    "if olefile.isOleFile(filename):\n",
    "    with olefile.OleFileIO(filename) as ole:\n",
    "        streams = ole.listdir(storages=False, streams=True)\n",
    "\n",
    "        streams_list = ole.openstream(['Spectra','IndexTable']).read()\n",
    "\n",
    "        streams_list = re.findall(b'(\\\\w{8}-\\\\w{8})',streams_list)\n",
    "\n",
    "#  with olefile.OleFileIO(filename) as ole:\n",
    "        stream_data = []\n",
    "        for stream_ in streams_list:\n",
    "            stream_data.append(ole.openstream(['Spectra',stream_.decode()]).read())\n",
    "\n",
    "for name,data in zip(streams_list,stream_data):\n",
    "    with open(path_to_save+'/TempBin/'+name.decode()+'.bin','wb+') as f:\n",
    "        f.write(data)"
   ]
  },
  {
   "cell_type": "code",
   "execution_count": 9,
   "metadata": {},
   "outputs": [
    {
     "name": "stdout",
     "output_type": "stream",
     "text": [
      "Image found:0003A276-67506ABC Saving...\n",
      "\n"
     ]
    }
   ],
   "source": [
    "stream_name = streams_list[0]\n",
    "\n",
    "jpg_byte_start = b'\\xff\\xd8\\xff\\xe0'\n",
    "jpg_byte_end = b'\\xff\\xd9'\n",
    "jpg_image = bytearray()\n",
    "\n",
    "with open(path_to_save+'/TempBin/'+stream_name.decode()+'.bin', 'rb') as f:\n",
    "    full_extracted_data = f.read()\n",
    "\n",
    "    startimg = full_extracted_data.find(jpg_byte_start)\n",
    "\n",
    "    pattern = r'(?:\\x00SpectName.{11}\\x00PropType\\x01.{19}\\x31\\x2e\\x30\\x30.{20})([A-Za-z0-9_() ]+)(?:.{4}[A-Z])'\n",
    "    match = re.findall(pattern.encode(), full_extracted_data)\n",
    "   \n",
    "    if match:\n",
    "        sample_name = match[0].decode()\n",
    "    else:\n",
    "        print('No sample name found')\n",
    "        sample_name = 'noname'\n",
    "    \n",
    "    #sample_name = re.findall(b'(?:\\x00SpectName)(?:.{11})(?:\\x00PropType\\x01)(?:.{19})(?:\\x31\\x2e\\x30\\x30)(?:\\W{20})(.+)(?:.{4})(?:\\x53\\x70)',full_extracted_data)[0].decode()\n",
    "\n",
    "    if startimg == -1:\n",
    "        print('!Warning!Could not find a valid JPEG image in the data stream:'+stream_name.decode())\n",
    "        print('sample name:' + sample_name)\n",
    "        print('It is ok if you did not take a visible image for this experiment.')\n",
    "\n",
    "    else:\n",
    "        print('Image found:'+stream_name.decode()+' Saving...\\n')\n",
    "        endimg = full_extracted_data.find(jpg_byte_end, startimg) + len(jpg_byte_end)\n",
    "        jpg_image += full_extracted_data[startimg:endimg]\n",
    "\n",
    "        with open(path_to_save+'/Images/'+stream_name.decode()+'_'+sample_name+'.jpg', 'wb+') as f:\n",
    "            f.write(jpg_image)"
   ]
  },
  {
   "cell_type": "code",
   "execution_count": 10,
   "metadata": {},
   "outputs": [],
   "source": [
    "for filename in os.listdir(path_to_save+'TempBin'):\n",
    "    file_path = os.path.join(path_to_save+'TempBin', filename)\n",
    "    if os.path.isfile(file_path):\n",
    "        os.remove(file_path)\n",
    "    elif os.path.isdir(file_path):\n",
    "        for sub_filename in os.listdir(file_path):\n",
    "            sub_file_path = os.path.join(file_path, sub_filename)\n",
    "            os.remove(sub_file_path)\n",
    "        os.rmdir(file_path)\n",
    "os.rmdir(path_to_save+'TempBin')"
   ]
  },
  {
   "cell_type": "code",
   "execution_count": null,
   "metadata": {},
   "outputs": [],
   "source": []
  }
 ],
 "metadata": {
  "kernelspec": {
   "display_name": "preguica",
   "language": "python",
   "name": "python3"
  },
  "language_info": {
   "codemirror_mode": {
    "name": "ipython",
    "version": 3
   },
   "file_extension": ".py",
   "mimetype": "text/x-python",
   "name": "python",
   "nbconvert_exporter": "python",
   "pygments_lexer": "ipython3",
   "version": "3.13.2"
  }
 },
 "nbformat": 4,
 "nbformat_minor": 2
}
